{
 "cells": [
  {
   "cell_type": "code",
   "execution_count": null,
   "id": "dbf6b3fd-4410-4489-a341-d6d753556245",
   "metadata": {},
   "outputs": [],
   "source": [
    "Dictionary : Its used to store the data values in key:value pairs and it collection of all data types.\n",
    "It can be represented by {} and key value is separated by a colon : and every element is separated by ,.\n",
    "It doesn't allow duplicate values.\n",
    "It is MUTABLE( We can change the values, modify and remove)\n",
    "Cars={\"Brand\":\"Thar\", \"Colour\" : \"BLACK\", \"YEAR\" : \"2023\"}\n"
   ]
  },
  {
   "cell_type": "code",
   "execution_count": null,
   "id": "c6ef13ff-ba8d-43bb-a391-c45ebff08a4c",
   "metadata": {},
   "outputs": [],
   "source": [
    "WHY DO WE USE DICTIONARY?\n",
    "It's used to store the values and when we have a set of unique values that map to a praticular key values.\n",
    "It's un-ordered, keys are case sensitive."
   ]
  },
  {
   "cell_type": "code",
   "execution_count": null,
   "id": "1edd7c89-ec47-4d80-98c0-81f6e9c51bfd",
   "metadata": {},
   "outputs": [],
   "source": [
    "WHERE DO WE USE DICTIONARY?\n",
    "Whenever we want to lookup for certain data. \n",
    "Ex:To store associative data like student's roll no and student Name"
   ]
  },
  {
   "cell_type": "code",
   "execution_count": 3,
   "id": "573e190c-3aa8-49b1-8943-56f5ce5330e0",
   "metadata": {},
   "outputs": [
    {
     "name": "stdout",
     "output_type": "stream",
     "text": [
      "{'ID': 406, 'NAME': 'Prasanna', 'COURSE': 'DataAnalytics'}\n",
      "{'NAME': 'THAR', 'MODEL': 'Mahindar', 'YEAR': '2023'}\n",
      "{'Brand': 'VIVO', 'SERIES': 'Y19'}\n",
      "{'Color': 'Blue', 'Brand': 'CELLO'}\n",
      "{'AP': 'AMRAVTHI', 'Tamil Nadu': 'CHENNAI', 'TELAGANNA': 'HYD'}\n"
     ]
    }
   ],
   "source": [
    "#FIVE Examples of dictonary\n",
    "Stud ={\"ID\" : 406, \"NAME\" : \"Prasanna\", \"COURSE\" : \"DataAnalytics\"}\n",
    "print(Stud)\n",
    "Cars = {\"NAME\" : \"THAR\", \"MODEL\":\"Mahindar\" ,\"YEAR\" : \"2023\"}\n",
    "print(Cars)\n",
    "Phone={\"Brand\" : \"VIVO\" , \"SERIES\" : \"Y19\"}\n",
    "print(Phone)\n",
    "Pens = {\"Color\" : \"Blue\", \"Brand\" : \"CELLO\"}\n",
    "print(Pens)\n",
    "Capital = { \"AP\" : \"AMRAVTHI\", \"Tamil Nadu\" : \"CHENNAI\", \"TELAGANNA\" : \"HYD\"}\n",
    "print(Capital)"
   ]
  },
  {
   "cell_type": "code",
   "execution_count": 6,
   "id": "a4a4ebe0-6de6-4cf4-9e31-6ed704e8ff39",
   "metadata": {},
   "outputs": [
    {
     "name": "stdout",
     "output_type": "stream",
     "text": [
      "VIVO\n",
      "Prasanna\n"
     ]
    }
   ],
   "source": [
    "#ACCESS THE ELEMENT : BY USING THE KEY VALUE WE CAN ABLE TO ACCESS THE ELEMENT IN DICTONARY\n",
    "print(Phone[\"Brand\"])\n",
    "print(Stud[\"NAME\"])"
   ]
  },
  {
   "cell_type": "code",
   "execution_count": 16,
   "id": "8a0dfce3-35fe-40dd-ac31-20a8a01054c1",
   "metadata": {},
   "outputs": [
    {
     "name": "stdout",
     "output_type": "stream",
     "text": [
      "{'AP': 'AMRAVTHI', 'Tamil Nadu': 'CHENNAI1', 'TELAGANNA': 'HYD', 'Tamil': 'CHENNAI1'}\n",
      "{'Brand': 'OPPO', 'SERIES': 'Y19', 'Brand2': 'OPPO'}\n"
     ]
    }
   ],
   "source": [
    "# UPDATE >> It's used to update the key values in the existed dict and it will add the updated key values at end of the Dict\n",
    "Capital.update({\"Tamil\":\"CHENNAI1\"})\n",
    "print(Capital)\n",
    "Phone.update({\"Brand2\": \"OPPO\"})\n",
    "print(Phone)"
   ]
  },
  {
   "cell_type": "code",
   "execution_count": 14,
   "id": "65c6abeb-e25a-491f-beae-8fed1206f8c8",
   "metadata": {},
   "outputs": [
    {
     "name": "stdout",
     "output_type": "stream",
     "text": [
      "{'ID': '408', 'NAME': 'Prasanna', 'COURSE': 'DataAnalytics'}\n",
      "{'Color': 'BLACK', 'Brand': 'CELLO'}\n"
     ]
    }
   ],
   "source": [
    "#Change values : \n",
    "Stud[\"ID\"] = \"408\"\n",
    "print(Stud)\n",
    "Pens[\"Color\"] = \"BLACK\"\n",
    "print(Pens)"
   ]
  },
  {
   "cell_type": "code",
   "execution_count": 17,
   "id": "f5aba1fe-58bf-4154-a2a0-2f7acb0119d9",
   "metadata": {},
   "outputs": [
    {
     "name": "stdout",
     "output_type": "stream",
     "text": [
      "{'ID': '408', 'NAME': 'Prasanna', 'COURSE': 'DataAnalytics', 'age': '24'}\n"
     ]
    }
   ],
   "source": [
    "#ADDING ITEMS >> BY USING NEW INDEX pattern we assign the KEY values to it\n",
    "Stud[\"age\"] = \"24\"\n",
    "print(Stud)\n"
   ]
  },
  {
   "cell_type": "code",
   "execution_count": 18,
   "id": "28eac60e-f542-43c0-9f17-6a1970df02fd",
   "metadata": {},
   "outputs": [
    {
     "name": "stdout",
     "output_type": "stream",
     "text": [
      "{'Tamil Nadu': 'CHENNAI1', 'TELAGANNA': 'HYD', 'Tamil': 'CHENNAI1'}\n"
     ]
    }
   ],
   "source": [
    "#Removing Items \n",
    "#POP >>this method removes the item with specifed key name\n",
    "Capital.pop(\"AP\")\n",
    "print(Capital)"
   ]
  },
  {
   "cell_type": "code",
   "execution_count": 19,
   "id": "d0095cb1-f810-4906-b28d-d3d790a32fd5",
   "metadata": {},
   "outputs": [
    {
     "name": "stdout",
     "output_type": "stream",
     "text": [
      "{'Tamil Nadu': 'CHENNAI1', 'TELAGANNA': 'HYD'}\n"
     ]
    }
   ],
   "source": [
    "#popitem>> It removes the last inserted item in dict\n",
    "Capital.popitem()\n",
    "print(Capital)"
   ]
  },
  {
   "cell_type": "code",
   "execution_count": 25,
   "id": "f7429104-0ac0-4c21-8673-c3b0441374d9",
   "metadata": {},
   "outputs": [
    {
     "name": "stdout",
     "output_type": "stream",
     "text": [
      "{'NAME': 'THAR', 'YEAR': '2023'}\n"
     ]
    }
   ],
   "source": [
    "# Del >> It removes the item with the specified key name \n",
    "del Cars[\"MODEL\"]\n",
    "print(Cars)"
   ]
  },
  {
   "cell_type": "code",
   "execution_count": 26,
   "id": "0b99d006-28fd-4bc1-b272-4857b1c0169f",
   "metadata": {},
   "outputs": [
    {
     "ename": "NameError",
     "evalue": "name 'Capital' is not defined",
     "output_type": "error",
     "traceback": [
      "\u001b[1;31m---------------------------------------------------------------------------\u001b[0m",
      "\u001b[1;31mNameError\u001b[0m                                 Traceback (most recent call last)",
      "Cell \u001b[1;32mIn[26], line 2\u001b[0m\n\u001b[0;32m      1\u001b[0m \u001b[38;5;28;01mdel\u001b[39;00m Capital\n\u001b[1;32m----> 2\u001b[0m \u001b[38;5;28mprint\u001b[39m(\u001b[43mCapital\u001b[49m)\n",
      "\u001b[1;31mNameError\u001b[0m: name 'Capital' is not defined"
     ]
    }
   ],
   "source": [
    "del Capital # it removes the entire dict elements\n",
    "print(Capital)"
   ]
  },
  {
   "cell_type": "code",
   "execution_count": 27,
   "id": "fb63d29e-0469-4f1f-9677-9a3248740ee4",
   "metadata": {},
   "outputs": [
    {
     "name": "stdout",
     "output_type": "stream",
     "text": [
      "{}\n"
     ]
    }
   ],
   "source": [
    "#Clear >> It clears the key values in the dictornary \n",
    "Cars.clear()\n",
    "print(Cars)\n"
   ]
  },
  {
   "cell_type": "code",
   "execution_count": null,
   "id": "384ecb65-e91b-46f8-b349-6b36463e6c8d",
   "metadata": {},
   "outputs": [],
   "source": []
  }
 ],
 "metadata": {
  "kernelspec": {
   "display_name": "Python 3 (ipykernel)",
   "language": "python",
   "name": "python3"
  },
  "language_info": {
   "codemirror_mode": {
    "name": "ipython",
    "version": 3
   },
   "file_extension": ".py",
   "mimetype": "text/x-python",
   "name": "python",
   "nbconvert_exporter": "python",
   "pygments_lexer": "ipython3",
   "version": "3.11.4"
  }
 },
 "nbformat": 4,
 "nbformat_minor": 5
}

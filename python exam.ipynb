{
 "cells": [
  {
   "cell_type": "code",
   "execution_count": null,
   "id": "6901c147-23e9-40bb-95a3-cc798e7ea3d8",
   "metadata": {},
   "outputs": [],
   "source": [
    "1) what is Python? what are benefits of using python\n",
    "Python is a high-level, general -purpose programming laguage. \n",
    "Its very easy to learn and easy to connect with database. \n",
    "This Programming language is widely used in web spplications, software development, data science & ML.\n",
    "BENFITS OF USING PYTHON :\n",
    "Easy to learn and use, expressive & Interpreted language,  free and open source, object-oriented language, Easy to Maintain, Extensible feature,\n",
    "Standard library, GUI support, Database support.\n"
   ]
  },
  {
   "cell_type": "code",
   "execution_count": null,
   "id": "e035b528-c3e4-40d8-b6f1-6d13b5656aee",
   "metadata": {},
   "outputs": [],
   "source": [
    "2) What is an interpreted language \n",
    "Python is a interpreted language which means High -level programming language translate into machine level code  and it exceutes line by line. \n",
    "It makes simpler to test and debug.\n"
   ]
  },
  {
   "cell_type": "code",
   "execution_count": null,
   "id": "aa78ca97-c6c6-4156-8140-5c177c1d7286",
   "metadata": {},
   "outputs": [],
   "source": [
    "3)What are the common built-in data types in python ?\n",
    "int, float, complex, boolean\n",
    "Ex(int) : a=7\n",
    "ex(float) : b=9.56\n",
    "ex(complex) : C= 5+0j\n",
    "ex(boolean) : bool(34)\n"
   ]
  },
  {
   "cell_type": "code",
   "execution_count": null,
   "id": "871e4d87-dcf4-4253-b21f-3727c8d974be",
   "metadata": {},
   "outputs": [],
   "source": [
    "4) what are the benfits of using python language as a tool in the present scenario?\n",
    "More libraries\n",
    "security\n",
    "free-open source\n",
    "scalability\n",
    "simple and easy to learn\n",
    "\n"
   ]
  },
  {
   "cell_type": "code",
   "execution_count": null,
   "id": "79d2368a-c493-4bd1-bd3a-0000bb50b376",
   "metadata": {},
   "outputs": [],
   "source": [
    "5) what does the '#' symbol do in the python?\n",
    " \"#\" indicates in python for comment\n",
    " for example if we  write a 100 lines code by seeing the code other person can't able to understand which opertaion or performed in that code. \n",
    " we simply or brefiy shote note by indicating # at end of the operarions.\n",
    " Ex: \n",
    " # addition opertaion\n",
    " a=4\n",
    " b=5\n",
    " c=a+b "
   ]
  },
  {
   "cell_type": "code",
   "execution_count": null,
   "id": "0d9a8386-8fda-4146-a3ac-71357008948a",
   "metadata": {},
   "outputs": [],
   "source": [
    "6) What is the difference between a Mutable data type and Immmutable data type?\n",
    "MUTABLE : We can able to change , modify, insert and delete the values\n",
    "IMMUTABLE : We can't able to change any values"
   ]
  },
  {
   "cell_type": "code",
   "execution_count": null,
   "id": "84ce3871-859d-4ecf-a79b-3c8f7284cd88",
   "metadata": {},
   "outputs": [],
   "source": [
    "7) How do you comment on a single line and multiple lines in python?\n",
    "Single line comment is used present in # before the code\n",
    "# python is awesome\n",
    "Multiple lines \n",
    "# python \n",
    "# is \n",
    "# Awesome\n",
    "or\n",
    "'python is awesome'\n",
    "or \n",
    "''' \n",
    "python is a awesome language\n",
    "'''\n"
   ]
  },
  {
   "cell_type": "code",
   "execution_count": null,
   "id": "a9478dbd-f3c3-4765-9cb4-d6ef07409446",
   "metadata": {},
   "outputs": [],
   "source": [
    "8) How do I Modify string in python?\n",
    "we cannot modify a string in python because it's IMMUTABLE"
   ]
  },
  {
   "cell_type": "code",
   "execution_count": null,
   "id": "06c995be-77b7-475f-a9e4-01b6000bce9e",
   "metadata": {},
   "outputs": [],
   "source": [
    "9) What is the index in python and it's types?\n",
    "by using the index we can easily access the element in the list\n",
    "Index are two types: Postive, Negative\n",
    "Positive: It starts from 0 to Infinty, and it calcaultes from left to right.\n",
    "Negative : It starts from -1 to -Infinty, and it calcaultes from right to left."
   ]
  },
  {
   "cell_type": "code",
   "execution_count": null,
   "id": "96912c1c-6cfd-4a54-924c-07a2fa95e88d",
   "metadata": {},
   "outputs": [],
   "source": [
    "10) What is a negative index in python ?\n",
    "Negative Index : It starts from -1 to -Infinty, and it calcaultes from right to left.\n"
   ]
  },
  {
   "cell_type": "code",
   "execution_count": null,
   "id": "2d222535-5ad9-413f-9fb5-100da4906081",
   "metadata": {},
   "outputs": [],
   "source": [
    "11) What is slicing in python?\n",
    "By using slicing we can access more than one element in the values or element  and we can access the particular range of elements.\n",
    "Syntax: a[starting index: ending index..>(n-1)]\n",
    "Ex: a=[1,2,4,6,8,7,3,8,9]\n",
    "Print(a[3:7]) ... o/p [6,8,7,3]"
   ]
  },
  {
   "cell_type": "code",
   "execution_count": null,
   "id": "44da8d35-123e-4ef9-aaee-e1716ded18bd",
   "metadata": {},
   "outputs": [],
   "source": [
    "12) what are the keywords in Python?\n",
    "Python keywords has a set of keywords that are reversed words that cannot be used as a variables names, function names, or any other identifiers.\n",
    "'FALSE', NONE, TRUE, AND ,AS ,ASSERT, ASYNC, AWAIT, BREAK, CLASS, DEF, ELIF, ELSE, EXCEPT, FINALLY, FOR, FROM, GLOBAL, IF, IMPORT, IN , IS, LAMNDA, \n",
    "NONLOCAL,NOT,OR, PASS, RAISE, RETURN, TRY, WHILE, WITH , YIELD."
   ]
  },
  {
   "cell_type": "code",
   "execution_count": null,
   "id": "13db83c5-84cf-4937-bb56-26696c08f930",
   "metadata": {},
   "outputs": [],
   "source": [
    "13) What are the variables in python?\n",
    "Variables are cotainers for storing a data values. \n",
    "It is a storing of elements/items/data values.\n",
    "ex = a=12 [ Here a is variable and 12 is a element or data storing in a variable by using assignment operator]"
   ]
  },
  {
   "cell_type": "code",
   "execution_count": null,
   "id": "60954293-f01f-4125-8ac3-cfe715c6d0a2",
   "metadata": {},
   "outputs": [],
   "source": [
    "14) Explain the rules to Create a variable>\n",
    "Keywords can't be used for a variable name.\n",
    "variable name cannot start with Numbers or any special characters like ($, *,%, :,. etc..,) except _\n",
    "Alpha numeric character we can able to create a variable name(1-z,0-9, and _)\n",
    "Variable is a case-sensitive(age, Age, AGE)\n",
    "\n",
    "\n"
   ]
  },
  {
   "cell_type": "code",
   "execution_count": null,
   "id": "2bcf819f-6958-4aed-a088-bb32992b4de9",
   "metadata": {},
   "outputs": [],
   "source": [
    "15) What are the operators in Python ?\n",
    "there are 7 operators\n",
    "1)  Arithmetic\n",
    "2) Assignment\n",
    "3) Comparsion\n",
    "4) Logical\n",
    "5) Bitwise\n",
    "6) Mebership\n",
    "7) Identify"
   ]
  },
  {
   "cell_type": "code",
   "execution_count": null,
   "id": "b4465394-9d89-423b-8320-cb98b0c56dfc",
   "metadata": {},
   "outputs": [],
   "source": [
    "16) Expliain about logical operator with examples?\n",
    "This logical operators are used in Conditional statements (AND , OR, NOT)\n",
    "AND:  It Returns true if both operands are true  \n",
    "ex: 7>10, 20>45\n",
    "OR: Returns True if either one operand is true\n",
    "NOR: returns true if operand is flase\n"
   ]
  },
  {
   "cell_type": "code",
   "execution_count": null,
   "id": "b19ccbcf-94e1-49c7-9454-b96c87ebd058",
   "metadata": {},
   "outputs": [],
   "source": [
    "17) Is Python Case sensitive?\n",
    "yes, it's a case sensitive\n"
   ]
  },
  {
   "cell_type": "code",
   "execution_count": null,
   "id": "a4e23fcb-f2a2-495d-a8fe-35898dbd0d79",
   "metadata": {},
   "outputs": [],
   "source": [
    "18) How to remove values in list?\n",
    "d=[12,45,78,34,61,83,78]\n",
    "#removing value in the list syntax\n",
    "d.remove(61)\n",
    "print(d) ...[12,45,78,34,83,78]\n",
    "# if we want remove duplicates in list it removes removes only first value in list \n",
    "d.remove(78)\n",
    "print(d) ..o/p [12,45,34,83,78]\n",
    "\n"
   ]
  }
 ],
 "metadata": {
  "kernelspec": {
   "display_name": "Python 3 (ipykernel)",
   "language": "python",
   "name": "python3"
  },
  "language_info": {
   "codemirror_mode": {
    "name": "ipython",
    "version": 3
   },
   "file_extension": ".py",
   "mimetype": "text/x-python",
   "name": "python",
   "nbconvert_exporter": "python",
   "pygments_lexer": "ipython3",
   "version": "3.11.4"
  }
 },
 "nbformat": 4,
 "nbformat_minor": 5
}

{
 "cells": [
  {
   "cell_type": "code",
   "execution_count": 2,
   "id": "555cd9ad-e134-4d2c-880f-0e724f54cd09",
   "metadata": {},
   "outputs": [
    {
     "name": "stdout",
     "output_type": "stream",
     "text": [
      "{4, 5, 8, 9, 12, 236, 237, 345, 188, 127}\n",
      "None\n"
     ]
    }
   ],
   "source": [
    "# to remove the Duplicate from a list\n",
    "list=[4,5,8,9,4,5,12,345,236,236,237,188,127]\n",
    "new=print(set(list))\n",
    "print(new)"
   ]
  },
  {
   "cell_type": "code",
   "execution_count": 5,
   "id": "d221a049-b1be-4a4e-a60c-14bc34e97a25",
   "metadata": {},
   "outputs": [
    {
     "name": "stdin",
     "output_type": "stream",
     "text": [
      "enter a character O\n"
     ]
    },
    {
     "name": "stdout",
     "output_type": "stream",
     "text": [
      "It's a vowel O\n"
     ]
    }
   ],
   "source": [
    "# to check the given character is vowel or not\n",
    "char=input(\"enter a character\")\n",
    "vowels =['a','e','i','o','u','A','E','I','O','U']\n",
    "if char in vowels:\n",
    "    print(\"It's a vowel\", char)\n",
    "else:\n",
    "    print(\"It's not a vowel\", char)\n",
    "    \n",
    "    "
   ]
  },
  {
   "cell_type": "code",
   "execution_count": 10,
   "id": "56b186ea-512f-41bc-9872-f5c710876fac",
   "metadata": {},
   "outputs": [
    {
     "name": "stdout",
     "output_type": "stream",
     "text": [
      "right now we are not serving this order Paneer\n"
     ]
    }
   ],
   "source": [
    "#restaurant 5 veg & 5 non veg items\n",
    "order =\"Paneer\"\n",
    "non_veg =[\"Chikcen\",\"Mutton\",\"Prawins\"]\n",
    "veg=[\"Kaju paneer\", \"paneer\", \"Mushroom\"]\n",
    "if order in veg:\n",
    "    print(\"your order is veg\", order)\n",
    "elif order in non_veg:\n",
    "    print(\"your order is non-veg\", order)\n",
    "else:\n",
    "    print(\"right now we are not serving this order\", order)\n",
    "    \n",
    "    "
   ]
  },
  {
   "cell_type": "code",
   "execution_count": 12,
   "id": "f24bd333-a1a7-4f0a-86c8-758aef0b7a89",
   "metadata": {},
   "outputs": [
    {
     "name": "stdout",
     "output_type": "stream",
     "text": [
      "common elements of a given list {'4', '6', '7'}\n"
     ]
    }
   ],
   "source": [
    "#Find the two common elements from the list\n",
    "lst1=['1','3','4','6','7','1']\n",
    "lst2 = ['4','5','6','2','7']\n",
    "set1=set(lst1)\n",
    "set2 =set(lst2)\n",
    "common_ele=set2.intersection(set1)\n",
    "print(\"common elements of a given list\", common_ele)\n"
   ]
  },
  {
   "cell_type": "code",
   "execution_count": 19,
   "id": "6caf2e36-87d3-46a6-9af9-712f604557f9",
   "metadata": {},
   "outputs": [
    {
     "name": "stdout",
     "output_type": "stream",
     "text": [
      "Welcome To Python Course\n"
     ]
    }
   ],
   "source": [
    "#Capitalize the first letter in the word\n",
    "\n",
    "String = \"welcome to python course\"\n",
    "print(String.title()) # title()used to capitalize the first letter of each word in a string."
   ]
  },
  {
   "cell_type": "code",
   "execution_count": 23,
   "id": "c7a09515-1922-41ef-b41b-dd1b8591e800",
   "metadata": {},
   "outputs": [
    {
     "name": "stdin",
     "output_type": "stream",
     "text": [
      "enter a string python is awesome language to learn\n"
     ]
    },
    {
     "name": "stdout",
     "output_type": "stream",
     "text": [
      "Longest word in the given string:  language\n",
      "length of a longest string:  8\n"
     ]
    }
   ],
   "source": [
    "#to find the lenght of longest word in a given sentence\n",
    "Sentence=input(\"enter a string\")\n",
    "long=max(Sentence.split(), key=len)\n",
    "\n",
    "print(\"Longest word in the given string: \", long)\n",
    "print(\"length of a longest string: \", len(long))\n"
   ]
  },
  {
   "cell_type": "code",
   "execution_count": 32,
   "id": "32d9f489-8aa4-47ff-97bd-a1388c168475",
   "metadata": {},
   "outputs": [
    {
     "name": "stdout",
     "output_type": "stream",
     "text": [
      "list is empty\n"
     ]
    }
   ],
   "source": [
    "#check if list is empty or not\n",
    "lst=[]\n",
    "if not lst: # if lst ==0:\n",
    "    print(\"list is empty\")\n",
    "else:\n",
    "    print(\"list is not empty\")\n"
   ]
  },
  {
   "cell_type": "code",
   "execution_count": 38,
   "id": "1aa090d5-faa3-498e-98cd-3076c54b7a3c",
   "metadata": {},
   "outputs": [
    {
     "name": "stdin",
     "output_type": "stream",
     "text": [
      "enter a value 43\n"
     ]
    },
    {
     "name": "stdout",
     "output_type": "stream",
     "text": [
      "square root of 6.557438524302\n"
     ]
    }
   ],
   "source": [
    "#calculate the square root of a given number\n",
    "n=int(input(\"enter a value\"))\n",
    "res= n**0.5\n",
    "print(\"square root of\",  res)"
   ]
  },
  {
   "cell_type": "code",
   "execution_count": 39,
   "id": "351d180c-b0d4-4fa2-b17d-9bce3d4e5a22",
   "metadata": {},
   "outputs": [
    {
     "name": "stdout",
     "output_type": "stream",
     "text": [
      "max lenght of a list: 782\n"
     ]
    }
   ],
   "source": [
    "#find the max number in a list\n",
    "list=[345,567,23,22,782,617,108]\n",
    "print(\"max lenght of a list:\", max(list))"
   ]
  },
  {
   "cell_type": "code",
   "execution_count": 44,
   "id": "a3ece9b5-eb94-4353-b5bc-59d05342e68b",
   "metadata": {},
   "outputs": [
    {
     "name": "stdout",
     "output_type": "stream",
     "text": [
      "PythOn is a awesOme prOgram language tO learn\n"
     ]
    }
   ],
   "source": [
    "#Replace all occurance of a chaaracter in a string \n",
    "string=\"Python is a awesome program language to learn\"\n",
    "new=string.replace(\"o\",\"O\")\n",
    "print(new)"
   ]
  },
  {
   "cell_type": "code",
   "execution_count": null,
   "id": "4ca215d9-d7e1-4dd8-8ea3-655361ade54b",
   "metadata": {},
   "outputs": [],
   "source": []
  },
  {
   "cell_type": "code",
   "execution_count": null,
   "id": "2f546088-e08f-4a59-81b1-fc9eb2b96a63",
   "metadata": {},
   "outputs": [],
   "source": []
  },
  {
   "cell_type": "code",
   "execution_count": null,
   "id": "4d18eced-010e-411e-a4c3-e744cca699a9",
   "metadata": {},
   "outputs": [],
   "source": []
  },
  {
   "cell_type": "code",
   "execution_count": null,
   "id": "0a10f75b-cc9b-4869-bbb5-acb966b2ac4b",
   "metadata": {},
   "outputs": [],
   "source": []
  },
  {
   "cell_type": "code",
   "execution_count": null,
   "id": "996f4284-806e-4fc0-b927-0f2b43714f1e",
   "metadata": {},
   "outputs": [],
   "source": []
  }
 ],
 "metadata": {
  "kernelspec": {
   "display_name": "Python 3 (ipykernel)",
   "language": "python",
   "name": "python3"
  },
  "language_info": {
   "codemirror_mode": {
    "name": "ipython",
    "version": 3
   },
   "file_extension": ".py",
   "mimetype": "text/x-python",
   "name": "python",
   "nbconvert_exporter": "python",
   "pygments_lexer": "ipython3",
   "version": "3.11.4"
  }
 },
 "nbformat": 4,
 "nbformat_minor": 5
}

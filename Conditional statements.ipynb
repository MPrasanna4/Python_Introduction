{
 "cells": [
  {
   "cell_type": "code",
   "execution_count": null,
   "id": "a025e0df-27c4-4deb-8f60-5abff8a2018b",
   "metadata": {},
   "outputs": [],
   "source": [
    "#Conditional staements : It allows to make the decisions whether it's correct or not.\n",
    "#there are three conditional sttements : IF, ELSE, ELIf\n",
    "#It 's used to apply conditions on the program"
   ]
  },
  {
   "cell_type": "code",
   "execution_count": 4,
   "id": "5a3e4ad1-c712-4852-8962-2d4ce39e15aa",
   "metadata": {},
   "outputs": [
    {
     "name": "stdout",
     "output_type": "stream",
     "text": [
      "given num is greater than o\n"
     ]
    }
   ],
   "source": [
    "#IF: If a particular condition satisfy then it print output otherwise it won't generate any output\n",
    "#Syntax: if condition:\n",
    " #          {block statement}\n",
    "\n",
    "#Examples of If condition \n",
    "num=73\n",
    "if num>=0:\n",
    "    print(\"given num is greater than o\") \n",
    "#or\n",
    "num=-3 # condition is not satisfed not generated any output\n",
    "if num>=0:\n",
    "    print(\"given num is greater than o\") "
   ]
  },
  {
   "cell_type": "code",
   "execution_count": 6,
   "id": "6072d38b-35af-49ea-bb00-717ae4a92ed1",
   "metadata": {},
   "outputs": [
    {
     "name": "stdout",
     "output_type": "stream",
     "text": [
      "condition satisfy\n"
     ]
    }
   ],
   "source": [
    "#ELSE: It allows you to excute the different block of code when the If condition is false\n",
    "#Syntax: If condtion :\n",
    "#  code to execute if condition is true\n",
    "#else:\n",
    "    # code to execute if condition is false\n",
    "num=-3 \n",
    "if num <=0:\n",
    "    print(\"condition satisfy\")\n",
    "else:\n",
    "    print(\"Not satisfy\")"
   ]
  },
  {
   "cell_type": "code",
   "execution_count": 7,
   "id": "546afa7a-d030-4889-81f0-ca8630a065a7",
   "metadata": {},
   "outputs": [
    {
     "name": "stdout",
     "output_type": "stream",
     "text": [
      "Zero\n"
     ]
    }
   ],
   "source": [
    "#ELIF : IT allows you to check multiple conditions in sequence, and execute different code blocks depending on which condition is true.\n",
    "#if condition1:\n",
    "    # code to execute if condition1 is true\n",
    "#elif condition2:\n",
    "    # code to execute if condition1 is false and condition2 is true\n",
    "#elif condition3:\n",
    "    # code to execute if condition1 and condition2 are false, and condition3 is true\n",
    "#else:\n",
    "    # code to execute if all conditions are false\n",
    "num=0\n",
    "if num>0:\n",
    "    print(\"positive\")\n",
    "elif num <0:\n",
    "    print(\"Negative\")\n",
    "    \n",
    "else:\n",
    "    print(\"Zero\")"
   ]
  },
  {
   "cell_type": "code",
   "execution_count": 9,
   "id": "8b72d2da-c44d-4466-b41f-994eb8aa94b6",
   "metadata": {},
   "outputs": [
    {
     "name": "stdout",
     "output_type": "stream",
     "text": [
      "eligible\n"
     ]
    }
   ],
   "source": [
    "#Voting system\n",
    "age=24\n",
    "if age>=18:\n",
    "    print(\"eligible\")\n",
    "else:\n",
    "    print(\"Not eligible\")\n",
    "          "
   ]
  },
  {
   "cell_type": "code",
   "execution_count": 12,
   "id": "dd0a1787-ec60-433c-a06b-d50cc5bca414",
   "metadata": {},
   "outputs": [
    {
     "name": "stdout",
     "output_type": "stream",
     "text": [
      "retire\n"
     ]
    }
   ],
   "source": [
    "age = 70\n",
    "if age<18:\n",
    "    print(\"go to school\")\n",
    "elif age>=18 & age>=50:\n",
    "    print(\"go to work\")\n",
    "else:\n",
    "    print(\"retire\")\n",
    "    "
   ]
  },
  {
   "cell_type": "code",
   "execution_count": 14,
   "id": "f3a9c310-1d61-4430-802d-00337cac4048",
   "metadata": {},
   "outputs": [
    {
     "name": "stdout",
     "output_type": "stream",
     "text": [
      "ODD NUMBER\n"
     ]
    }
   ],
   "source": [
    "# to print a give number is even or odd\n",
    "num =9\n",
    "if num%2==0:\n",
    "    print(\"even number\")\n",
    "else:\n",
    "    print(\"ODD NUMBER\")\n"
   ]
  },
  {
   "cell_type": "code",
   "execution_count": 15,
   "id": "aa93c2d9-b2d2-45e3-91f4-874363af0e29",
   "metadata": {},
   "outputs": [
    {
     "name": "stdin",
     "output_type": "stream",
     "text": [
      "Enter a number 2001\n"
     ]
    },
    {
     "name": "stdout",
     "output_type": "stream",
     "text": [
      "NO leap year\n"
     ]
    }
   ],
   "source": [
    "# To find the leap year or not\n",
    "Year = int(input(\"Enter a number\"))\n",
    "if((Year % 400 == 0) or  (Year % 100 != 0) and  (Year % 4 == 0)): \n",
    "     print(\"given year is leap year\")\n",
    "else:\n",
    "    print(\"NO leap year\")\n"
   ]
  },
  {
   "cell_type": "code",
   "execution_count": 21,
   "id": "0a624acb-b229-4961-a10c-a616931886c7",
   "metadata": {},
   "outputs": [
    {
     "name": "stdout",
     "output_type": "stream",
     "text": [
      "14\n",
      "largest 14\n"
     ]
    }
   ],
   "source": [
    "#find the Max number among the a,b,c program\n",
    "a = 10\n",
    "b = 14\n",
    "c = 11\n",
    "\n",
    "#print(max(a,b,c))\n",
    "\n",
    "if (a >= b) and (a >= c):\n",
    "   print(\"largest\", a)\n",
    "elif (b >= a) and (b >= c):\n",
    "   print(\"largest\", b)\n",
    "else:\n",
    "   print(\"largest\", c)"
   ]
  },
  {
   "cell_type": "code",
   "execution_count": null,
   "id": "0e6c952b-6754-4257-ab12-442238f79cd0",
   "metadata": {},
   "outputs": [],
   "source": []
  }
 ],
 "metadata": {
  "kernelspec": {
   "display_name": "Python 3 (ipykernel)",
   "language": "python",
   "name": "python3"
  },
  "language_info": {
   "codemirror_mode": {
    "name": "ipython",
    "version": 3
   },
   "file_extension": ".py",
   "mimetype": "text/x-python",
   "name": "python",
   "nbconvert_exporter": "python",
   "pygments_lexer": "ipython3",
   "version": "3.11.4"
  }
 },
 "nbformat": 4,
 "nbformat_minor": 5
}

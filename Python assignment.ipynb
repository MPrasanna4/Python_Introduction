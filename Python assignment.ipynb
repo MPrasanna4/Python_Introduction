{
 "cells": [
  {
   "cell_type": "code",
   "execution_count": null,
   "id": "f6bc51b4-2711-4e6f-9cb9-ab9e729bb5ff",
   "metadata": {},
   "outputs": [],
   "source": [
    "1))write a python program to print Hello world\n",
    "2) write a python program, to calculate sum of 4 numbers\n",
    "3) Create a variables for storing a person name , age, and avg_score.\n",
    "4) Write a python program to concate two strings\n",
    "5) create a list of vegetables(5 -7) and access them using index.\n",
    "6) convert the temperature from celuis to foreign heat \n",
    "7)write a python program to calculate are of rectangle by giving it length and width.\n",
    "8)create list with numbers and identify max and min number in the list\n",
    "9) write a python program to check if a number is even. \n",
    "10) write a python program to check if a string is contains numeric or not. (IF it contains it print true or false)"
   ]
  },
  {
   "cell_type": "code",
   "execution_count": 3,
   "id": "2725b5d1-4aa3-4cc6-b76e-23bc89b816b6",
   "metadata": {},
   "outputs": [
    {
     "name": "stdout",
     "output_type": "stream",
     "text": [
      "HELLO WORLd\n",
      "HELLO WORLD!\n"
     ]
    }
   ],
   "source": [
    "#write a python program to print Hello world\n",
    "a=\"HELLO\" # passing string into variable \n",
    "b=\"WORLd\"\n",
    "print(a+\" \"+b)\n",
    "#or \n",
    "print(\"HELLO WORLD!\")"
   ]
  },
  {
   "cell_type": "code",
   "execution_count": 4,
   "id": "2a5722c8-87d8-4b4e-8bb5-713ff051613f",
   "metadata": {},
   "outputs": [
    {
     "name": "stdout",
     "output_type": "stream",
     "text": [
      "160\n"
     ]
    }
   ],
   "source": [
    "#write a python program, to calculate sum of 4 numbers\n",
    "d=24\n",
    "c=48\n",
    "e=56\n",
    "f=32\n",
    "sum=d+c+e+f\n",
    "print(sum)"
   ]
  },
  {
   "cell_type": "code",
   "execution_count": 15,
   "id": "c9a3aa0b-a31f-4587-93e9-4ef4bced3d35",
   "metadata": {},
   "outputs": [
    {
     "name": "stdout",
     "output_type": "stream",
     "text": [
      "Student name: PRASANNA LAKSHMI\n",
      "Student Age: 24 Years old\n",
      "Student GRADE IS : 84.5\n"
     ]
    }
   ],
   "source": [
    "#Create a variables for storing a person name , age, and avg_score.\n",
    "NAME=\"PRASANNA LAKSHMI\"\n",
    "AGE = \"24\"\n",
    "Avg_Score = \"84.5\"\n",
    "print(\"Student name:\", NAME)\n",
    "print(\"Student Age:\", AGE ,\"Years old\") \n",
    "print(\"Student GRADE IS :\",Avg_Score)"
   ]
  },
  {
   "cell_type": "code",
   "execution_count": 20,
   "id": "bed6aa89-f189-4724-bb40-760baeab02d4",
   "metadata": {},
   "outputs": [
    {
     "name": "stdout",
     "output_type": "stream",
     "text": [
      "Python is a  Interpreted langugae \n"
     ]
    }
   ],
   "source": [
    "#Write a python program to Concatenation two strings\n",
    "Str=\"Python is a\"\n",
    "Str1=\"Interpreted langugae \"\n",
    "c=Str +\"  \"+Str1\n",
    "print(c)"
   ]
  },
  {
   "cell_type": "code",
   "execution_count": 27,
   "id": "85bd7f9a-ee5c-45d1-b843-518b9a300edb",
   "metadata": {},
   "outputs": [
    {
     "data": {
      "text/plain": [
       "'Poatao'"
      ]
     },
     "execution_count": 27,
     "metadata": {},
     "output_type": "execute_result"
    }
   ],
   "source": [
    "#create a list of vegetables(5 -7 ex) and access them using index\n",
    "list =[\"lady finger\", \"Cucumber\", \"Poatao\", \"Beetroot\", \"Brinjal\", \"Bitter Groud\", \"Drum stick\", \"Tomato\",\"Carrot\"]\n",
    "list[2]\n",
    "\n"
   ]
  },
  {
   "cell_type": "code",
   "execution_count": 28,
   "id": "8d3504ba-8c1b-46f7-9366-59b64d5dc899",
   "metadata": {},
   "outputs": [
    {
     "data": {
      "text/plain": [
       "'Bitter Groud'"
      ]
     },
     "execution_count": 28,
     "metadata": {},
     "output_type": "execute_result"
    }
   ],
   "source": [
    "list[-4]"
   ]
  },
  {
   "cell_type": "code",
   "execution_count": 29,
   "id": "b7276334-24d9-41e3-b6dd-2559f4a232a1",
   "metadata": {},
   "outputs": [
    {
     "data": {
      "text/plain": [
       "'Drum stick'"
      ]
     },
     "execution_count": 29,
     "metadata": {},
     "output_type": "execute_result"
    }
   ],
   "source": [
    "list[6]"
   ]
  },
  {
   "cell_type": "code",
   "execution_count": 30,
   "id": "aed7ede4-4684-4996-93ed-0e432dab26f2",
   "metadata": {},
   "outputs": [
    {
     "data": {
      "text/plain": [
       "'Drum stick'"
      ]
     },
     "execution_count": 30,
     "metadata": {},
     "output_type": "execute_result"
    }
   ],
   "source": [
    "list[-3]"
   ]
  },
  {
   "cell_type": "code",
   "execution_count": 4,
   "id": "b5505745-c275-469b-b7e8-2dc3dbd6b56d",
   "metadata": {},
   "outputs": [
    {
     "name": "stdout",
     "output_type": "stream",
     "text": [
      "33.5 degree Celsius is equal to 92.3 degree Fahrenheit\n"
     ]
    }
   ],
   "source": [
    "#Python Program to convert temperature in celsius to fahrenheit\n",
    "celsius = 33.5\n",
    "fahrenheit = (celsius * 1.8) + 32\n",
    "# Convert Fahrenheit to celsius celsius = (fahrenheit - 32) / 1.8\n",
    "print('%0.1f degree Celsius is equal to %0.1f degree Fahrenheit' %(celsius,fahrenheit))\n"
   ]
  },
  {
   "cell_type": "code",
   "execution_count": 3,
   "id": "c7beb5e0-9a34-4db9-8eb1-5da0cac44b50",
   "metadata": {},
   "outputs": [
    {
     "name": "stdin",
     "output_type": "stream",
     "text": [
      "Enter width of a rectnagle : 21\n",
      "Enter length of a rectnagle : 24\n"
     ]
    },
    {
     "name": "stdout",
     "output_type": "stream",
     "text": [
      "area of a Rectangle is : 504.0\n"
     ]
    }
   ],
   "source": [
    "#write a python program to calculate are of rectangle by giving it length and width.\n",
    "width = float(input(\"Enter width of a rectnagle :\"))\n",
    "length = float(input(\"Enter length of a rectnagle :\"))\n",
    "Area = width*length\n",
    "print(\"area of a Rectangle is :\", Area);\n"
   ]
  },
  {
   "cell_type": "code",
   "execution_count": 5,
   "id": "1f878c65-bb70-4dfd-a197-9025e849bd19",
   "metadata": {},
   "outputs": [
    {
     "name": "stdout",
     "output_type": "stream",
     "text": [
      "Min number in list: 2\n",
      "Max number in list: 954\n"
     ]
    }
   ],
   "source": [
    "#create list with numbers and identify max and min number in the list\n",
    "list = [23,567,265,2,954,83,71,943,478,55,898]\n",
    "a=min(list)\n",
    "print(\"Min number in list:\", a)\n",
    "b=max(list)\n",
    "print(\"Max number in list:\", b)"
   ]
  },
  {
   "cell_type": "code",
   "execution_count": 7,
   "id": "60a79c8d-512d-44b1-b3fa-183fca60add5",
   "metadata": {},
   "outputs": [
    {
     "name": "stdin",
     "output_type": "stream",
     "text": [
      "enter the number even or odd: 33\n"
     ]
    },
    {
     "name": "stdout",
     "output_type": "stream",
     "text": [
      "Odd\n"
     ]
    }
   ],
   "source": [
    "#write a python program to check if a number is even.\n",
    "number = int(input(\"enter the number even or odd:\"))\n",
    "res=[\"Even\", \"Odd\"][number%2]\n",
    "print(res)\n"
   ]
  },
  {
   "cell_type": "code",
   "execution_count": 15,
   "id": "83bc3327-e284-4a35-b191-431114dd52b7",
   "metadata": {},
   "outputs": [
    {
     "name": "stdout",
     "output_type": "stream",
     "text": [
      "False\n",
      "False\n",
      "True\n",
      "False\n",
      "False\n"
     ]
    }
   ],
   "source": [
    "#write a python program to check if a string is contains numeric or not.(IF it contains it print true or false)\n",
    "\n",
    "g=\"SAI\"\n",
    "f=\"Dharani063\"\n",
    "h=\"34\"\n",
    "d=\"1.24\"\n",
    "e=\"3+0j\"\n",
    "print(g.isnumeric()) #isnumeric() method returns True if all the characters are numeric (0-9), otherwise False.\n",
    "print(f.isnumeric())\n",
    "print(h.isnumeric())\n",
    "print(d.isnumeric())\n",
    "print(e.isnumeric())\n",
    "\n"
   ]
  },
  {
   "cell_type": "code",
   "execution_count": null,
   "id": "81f2e8e4-b4cc-49d9-a98c-6baeab5a870b",
   "metadata": {},
   "outputs": [],
   "source": []
  }
 ],
 "metadata": {
  "kernelspec": {
   "display_name": "Python 3 (ipykernel)",
   "language": "python",
   "name": "python3"
  },
  "language_info": {
   "codemirror_mode": {
    "name": "ipython",
    "version": 3
   },
   "file_extension": ".py",
   "mimetype": "text/x-python",
   "name": "python",
   "nbconvert_exporter": "python",
   "pygments_lexer": "ipython3",
   "version": "3.11.4"
  }
 },
 "nbformat": 4,
 "nbformat_minor": 5
}
